{
 "cells": [
  {
   "cell_type": "code",
   "execution_count": 1,
   "metadata": {},
   "outputs": [],
   "source": [
    "## Exercises\n",
    "import numpy as np\n",
    "from function import *\n",
    "import matplotlib.pyplot as plt\n",
    "import pandas as pd"
   ]
  },
  {
   "cell_type": "markdown",
   "metadata": {},
   "source": [
    "## Week 1"
   ]
  },
  {
   "cell_type": "markdown",
   "metadata": {},
   "source": [
    "##### Extra problem 7\n",
    "A reminder on the semiempirical mass formula. Important: do not use the parameter values from the introductory course!\n",
    "\n",
    "The semiemperical mass formula can be useful in many cases. Make a computer\n",
    "macro/program (in Python, MATLAB or whatever program you prefer) that calcu\u0002lates the binding energy B in MeV for a given nucleus with mass number A, Z pro\u0002tons (and N neutrons), use equation (5.2) and the parameters given in the caption\n",
    "of figure 5.1. Then test it by calculating B/A for four nuclei having mass numbers\n",
    "50, 100, 150 and 200, and compare the result to figure 5.1. To select an appropriate\n",
    "Z for each A (and to see how B/A varies for each A), do look into the experimen\u0002tal values: the latest mass values are collected in the file massround.mas20.txt\n",
    "(downloaded from IAEA, references given in the header of the file, note that “mass\n",
    "excess” is the atomic mass minus A·1u). Discuss the results and the B/A trends"
   ]
  },
  {
   "cell_type": "code",
   "execution_count": 2,
   "metadata": {},
   "outputs": [
    {
     "data": {
      "text/plain": [
       "<matplotlib.legend.Legend at 0x2da382d1c90>"
      ]
     },
     "execution_count": 2,
     "metadata": {},
     "output_type": "execute_result"
    },
    {
     "data": {
      "image/png": "[encoded data removed]",
      "text/plain": [
       "<Figure size 640x480 with 1 Axes>"
      ]
     },
     "metadata": {},
     "output_type": "display_data"
    }
   ],
   "source": [
    "A = np.array([50,100,150,200])\n",
    "Z = np.array([24,44,62,80]) #found in nuclear card\n",
    "\n",
    "B_over_A = binding_E(A,Z)/A\n",
    "\n",
    "fig, ax = plt.subplots()\n",
    "ax.scatter(A,B_over_A, label = 'Semiemperical mass formula (5.2)')\n",
    "ax.set_xlim(0,203)\n",
    "ax.set_ylim(4,10)\n",
    "ax.legend()"
   ]
  },
  {
   "cell_type": "markdown",
   "metadata": {},
   "source": [
    "Kunne også sammenligne med rigtige ritige værdier for masser, bindingsenergier. Samt plottes alle isotoper for en N. \n",
    "\n",
    "Husk også at denne formel 5.2 er pæn når kvantemekaniske effektter ikke er medtaget (skalmodellen).Det er en god model hvis stemmeroverens med rigtige værdier fra masses20.dat, når modellen er så god kan man lave/snakke om størrelses ordner og derved kunne lave første estimationer af halveringstider osv. "
   ]
  },
  {
   "cell_type": "markdown",
   "metadata": {},
   "source": [
    "##### Exercise 6"
   ]
  },
  {
   "cell_type": "code",
   "execution_count": 3,
   "metadata": {},
   "outputs": [
    {
     "ename": "TypeError",
     "evalue": "tan() takes from 1 to 2 positional arguments but 0 were given",
     "output_type": "error",
     "traceback": [
      "\u001b[1;31m---------------------------------------------------------------------------\u001b[0m",
      "\u001b[1;31mTypeError\u001b[0m                                 Traceback (most recent call last)",
      "Cell \u001b[1;32mIn[3], line 3\u001b[0m\n\u001b[0;32m      1\u001b[0m E \u001b[38;5;241m=\u001b[39m \u001b[38;5;241m1\u001b[39m\n\u001b[0;32m      2\u001b[0m R \u001b[38;5;241m=\u001b[39m \u001b[38;5;241m2\u001b[39m\n\u001b[1;32m----> 3\u001b[0m V0 \u001b[38;5;241m=\u001b[39m E(\u001b[38;5;241m1\u001b[39m\u001b[38;5;241m+\u001b[39m\u001b[38;5;241m1\u001b[39m\u001b[38;5;241m/\u001b[39mnp\u001b[38;5;241m.\u001b[39mtan())\n",
      "\u001b[1;31mTypeError\u001b[0m: tan() takes from 1 to 2 positional arguments but 0 were given"
     ]
    }
   ],
   "source": [
    "E = 1\n",
    "R = 2\n",
    "V0 = E(1+1/np.tan())"
   ]
  },
  {
   "cell_type": "code",
   "execution_count": null,
   "metadata": {},
   "outputs": [],
   "source": []
  },
  {
   "cell_type": "markdown",
   "metadata": {},
   "source": [
    "# Week 2"
   ]
  },
  {
   "cell_type": "markdown",
   "metadata": {},
   "source": [
    "## Extra Porblem 8"
   ]
  },
  {
   "cell_type": "markdown",
   "metadata": {},
   "source": [
    "You saw in the introductory course that the semiemperical mass formula can be used\n",
    "to give many useful estimates. Try this - analytically or numerically, as you prefer -\n",
    "on the following two problems: (i) find out how to calculate the neutron separation\n",
    "energy of a nucleus (equation (8.2)), when will ground state neutron emission be\n",
    "possible in the heavy Na isotopes? (ii) find the Q-value for alpha emission, when\n",
    "will this become positive for nuclei along the line of beta-stability (see problem 5.6;\n",
    "use the experimental binding energy of 28.296 MeV for 4He)?"
   ]
  },
  {
   "cell_type": "code",
   "execution_count": null,
   "metadata": {},
   "outputs": [
    {
     "data": {
      "text/plain": [
       "Text(0, 0.5, 'Sn [MeV]')"
      ]
     },
     "execution_count": 32,
     "metadata": {},
     "output_type": "execute_result"
    },
    {
     "data": {
      "image/png": "[encoded data removed]",
      "text/plain": [
       "<Figure size 640x480 with 1 Axes>"
      ]
     },
     "metadata": {},
     "output_type": "display_data"
    }
   ],
   "source": [
    "# i)\n",
    "Z = 11\n",
    "N = np.array([6,7,8,9,10,11,12,13,14,15,16,17,18,19,20,21,22,23,24,25,26,27,28])\n",
    "A = N+Z\n",
    "sn = binding_E(A,Z)-binding_E(A-1,Z)\n",
    "\n",
    "plt.scatter(N,sn, color='blue')\n",
    "plt.hlines(0,0,40, ls = 'dashed', color='k')\n",
    "# plt.annotate('test',(A[0],sp[0]),textcoords=\"offset points\", xytext=(7,0))\n",
    "plt.xlim(5,30)\n",
    "plt.xlabel('Z')\n",
    "plt.ylabel('Sn [MeV]')"
   ]
  },
  {
   "cell_type": "code",
   "execution_count": 18,
   "metadata": {},
   "outputs": [
    {
     "name": "stderr",
     "output_type": "stream",
     "text": [
      "c:\\Users\\maria\\OneDrive - Aarhus universitet\\Skrivebord\\Universitet\\Kandidat\\8. semester\\Kernefysik II\\function.py:19: RuntimeWarning: invalid value encountered in power\n",
      "  energy = bv*A-bs*A**(2/3)-bsymm*((N-Z)**2/(2*A))-bc*Z**2/A**(1/3)+bp*(((-1)**N)+((-1)**Z))*(1/np.sqrt(A))\n",
      "c:\\Users\\maria\\OneDrive - Aarhus universitet\\Skrivebord\\Universitet\\Kandidat\\8. semester\\Kernefysik II\\function.py:19: RuntimeWarning: invalid value encountered in sqrt\n",
      "  energy = bv*A-bs*A**(2/3)-bsymm*((N-Z)**2/(2*A))-bc*Z**2/A**(1/3)+bp*(((-1)**N)+((-1)**Z))*(1/np.sqrt(A))\n"
     ]
    },
    {
     "data": {
      "text/plain": [
       "<matplotlib.collections.PathCollection at 0x2da3a642710>"
      ]
     },
     "execution_count": 18,
     "metadata": {},
     "output_type": "execute_result"
    },
    {
     "data": {
      "image/png": "[encoded data removed]",
      "text/plain": [
       "<Figure size 640x480 with 1 Axes>"
      ]
     },
     "metadata": {},
     "output_type": "display_data"
    }
   ],
   "source": [
    "## ii)\n",
    "\n",
    "A =np.linspace(1,400,311)\n",
    "beta_stability = A/(1.97+0.015*A**(2/3))\n",
    "Zs_beta_stability = np.round(beta_stability)\n",
    "\n",
    "Qalpha = Q_alpha(A,Zs_beta_stability)\n",
    "\n",
    "plt.scatter(Zs_beta_stability,Qalpha)"
   ]
  },
  {
   "cell_type": "code",
   "execution_count": 19,
   "metadata": {},
   "outputs": [
    {
     "data": {
      "text/plain": [
       "array([  1.,   1.,   2.,   2.,   3.,   4.,   4.,   5.,   6.,   6.,   7.,\n",
       "         7.,   8.,   9.,   9.,  10.,  10.,  11.,  12.,  12.,  13.,  13.,\n",
       "        14.,  14.,  15.,  16.,  16.,  17.,  17.,  18.,  18.,  19.,  20.,\n",
       "        20.,  21.,  21.,  22.,  22.,  23.,  24.,  24.,  25.,  25.,  26.,\n",
       "        26.,  27.,  27.,  28.,  28.,  29.,  30.,  30.,  31.,  31.,  32.,\n",
       "        32.,  33.,  33.,  34.,  34.,  35.,  35.,  36.,  36.,  37.,  37.,\n",
       "        38.,  39.,  39.,  40.,  40.,  41.,  41.,  42.,  42.,  43.,  43.,\n",
       "        44.,  44.,  45.,  45.,  46.,  46.,  47.,  47.,  48.,  48.,  49.,\n",
       "        49.,  50.,  50.,  51.,  51.,  52.,  52.,  53.,  53.,  54.,  54.,\n",
       "        55.,  55.,  56.,  56.,  57.,  57.,  58.,  58.,  58.,  59.,  59.,\n",
       "        60.,  60.,  61.,  61.,  62.,  62.,  63.,  63.,  64.,  64.,  65.,\n",
       "        65.,  66.,  66.,  67.,  67.,  67.,  68.,  68.,  69.,  69.,  70.,\n",
       "        70.,  71.,  71.,  72.,  72.,  73.,  73.,  73.,  74.,  74.,  75.,\n",
       "        75.,  76.,  76.,  77.,  77.,  78.,  78.,  78.,  79.,  79.,  80.,\n",
       "        80.,  81.,  81.,  82.,  82.,  83.,  83.,  83.,  84.,  84.,  85.,\n",
       "        85.,  86.,  86.,  86.,  87.,  87.,  88.,  88.,  89.,  89.,  90.,\n",
       "        90.,  90.,  91.,  91.,  92.,  92.,  93.,  93.,  93.,  94.,  94.,\n",
       "        95.,  95.,  96.,  96.,  96.,  97.,  97.,  98.,  98.,  99.,  99.,\n",
       "        99., 100., 100., 101., 101., 101., 102., 102., 103., 103., 104.,\n",
       "       104., 104., 105., 105., 106., 106., 106., 107., 107., 108., 108.,\n",
       "       109., 109., 109., 110., 110., 111., 111., 111., 112., 112., 113.,\n",
       "       113., 113., 114., 114., 115., 115., 115., 116., 116., 117., 117.,\n",
       "       117., 118., 118., 119., 119., 119., 120., 120., 121., 121., 121.,\n",
       "       122., 122., 123., 123., 123., 124., 124., 125., 125., 125., 126.,\n",
       "       126., 127., 127., 127., 128., 128., 128., 129., 129., 130., 130.,\n",
       "       130., 131., 131., 132., 132., 132., 133., 133., 133., 134., 134.,\n",
       "       135., 135., 135., 136., 136., 137., 137., 137., 138., 138., 138.,\n",
       "       139., 139., 140., 140., 140., 141., 141., 141., 142., 142., 143.,\n",
       "       143., 143., 144.])"
      ]
     },
     "execution_count": 19,
     "metadata": {},
     "output_type": "execute_result"
    }
   ],
   "source": [
    "Zs_beta_stability"
   ]
  },
  {
   "cell_type": "markdown",
   "metadata": {},
   "source": [
    "print(A)"
   ]
  },
  {
   "cell_type": "markdown",
   "metadata": {},
   "source": []
  },
  {
   "cell_type": "markdown",
   "metadata": {},
   "source": []
  }
 ],
 "metadata": {
  "kernelspec": {
   "display_name": "work_env",
   "language": "python",
   "name": "python3"
  },
  "language_info": {
   "codemirror_mode": {
    "name": "ipython",
    "version": 3
   },
   "file_extension": ".py",
   "mimetype": "text/x-python",
   "name": "python",
   "nbconvert_exporter": "python",
   "pygments_lexer": "ipython3",
   "version": "3.11.4"
  }
 },
 "nbformat": 4,
 "nbformat_minor": 2
}
